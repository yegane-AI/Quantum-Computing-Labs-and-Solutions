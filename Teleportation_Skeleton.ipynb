{
  "nbformat": 4,
  "nbformat_minor": 0,
  "metadata": {
    "colab": {
      "provenance": []
    },
    "kernelspec": {
      "name": "python3",
      "display_name": "Python 3"
    },
    "language_info": {
      "name": "python"
    }
  },
  "cells": [
    {
      "cell_type": "markdown",
      "source": [
        "# Quantum Teleportation Lab\n",
        "Deadline: 07/10, 11:59 PM!"
      ],
      "metadata": {
        "id": "oShN_BKSt0bK"
      }
    },
    {
      "cell_type": "code",
      "source": [
        "# !pip install qiskit\n",
        "# !pip install pylatexenc\n",
        "# !pip install qiskit_aer"
      ],
      "metadata": {
        "id": "n-H4ROcss6rY"
      },
      "execution_count": null,
      "outputs": []
    },
    {
      "cell_type": "markdown",
      "source": [
        "About libraries: If your QisKit version and matplotlib are not compatible, try to come up with another way to visualize the bloch spheres."
      ],
      "metadata": {
        "id": "nL9wYOCPt3l5"
      }
    },
    {
      "cell_type": "code",
      "source": [
        "from qiskit import QuantumCircuit, transpile\n",
        "from qiskit_aer import AerSimulator\n",
        "from qiskit.quantum_info import Statevector, partial_trace, Operator\n",
        "import numpy as np\n",
        "import matplotlib.pyplot as plt\n",
        "\n",
        "##### You are allowed to use other libraries for the bloch sphere visualization, instead of qiskit.visualization.\n",
        "from qiskit.visualization import plot_bloch_vector ## Don't need this one? comment it out!\n",
        "###### Do you need more libraries for visualization? Import them! :)"
      ],
      "metadata": {
        "id": "iuuwC7cRs9CD"
      },
      "execution_count": null,
      "outputs": []
    },
    {
      "cell_type": "markdown",
      "source": [
        "# Step 1: Set up the circuit\n",
        "We start by initializing a 3-qubit quantum circuit.\n",
        "\n",
        "Qubit 0 will be used for the quantum state to teleport (Alice’s qubit).\n",
        "\n",
        "Qubit 1 will be Alice’s half of the entangled pair.\n",
        "\n",
        "Qubit 2 will be Bob’s qubit (receiver)."
      ],
      "metadata": {
        "id": "EVvFvxfQuSFf"
      }
    },
    {
      "cell_type": "code",
      "source": [
        "# Step 1: Initialize a quantum circuit with 3 qubits (no classical bits needed for statevector simulation)\n",
        "qc = QuantumCircuit(_)\n"
      ],
      "metadata": {
        "id": "JO3ElxI_taDb"
      },
      "execution_count": null,
      "outputs": []
    },
    {
      "cell_type": "markdown",
      "source": [
        "# Step 2: Prepare the input state to teleport\n",
        "You’ll encode a quantum state in qubit 0 based on two classical bits.\n",
        "\n",
        "'00': no gate → qubit is in state ∣0⟩\n",
        "\n",
        "'01': apply X gate → ∣1⟩\n",
        "\n",
        "'10': apply H gate → ∣+⟩\n",
        "\n",
        "'11': apply X then H → ∣−⟩\n",
        "\n",
        "This step simulates how **2 classical bits** could be used to prepare different states — similar to superdense coding."
      ],
      "metadata": {
        "id": "Q2XhsbH0uZ0d"
      }
    },
    {
      "cell_type": "code",
      "source": [
        "\n",
        "# Step 2: Prepare the state to teleport (qubit 0) — simulate classical input (like in superdense coding)\n",
        "\n",
        "input_bits = _  # Change this to '00', '01', '10', or '11' to test other cases\n",
        "\n",
        "if input_bits == _:\n",
        "    pass  # |0>\n",
        "elif input_bits == _:\n",
        "    qc.x(_)  # |1>\n",
        "elif input_bits == _:\n",
        "    qc.h(_)  # |+>\n",
        "elif input_bits == _:\n",
        "    qc.x(_)\n",
        "    qc.h(_)  # |->\n"
      ],
      "metadata": {
        "id": "w8rVjC_cteW8"
      },
      "execution_count": null,
      "outputs": []
    },
    {
      "cell_type": "markdown",
      "source": [
        "# Step 3: Create entanglement between Alice and Bob\n",
        "Qubit 1 (Alice) and qubit 2 (Bob) are entangled:\n",
        "\n",
        "Apply H gate to qubit 1.\n",
        "\n",
        "Apply CX with qubit 1 as control and qubit 2 as target.\n",
        "\n",
        "This creates a Bell state (entangled pair), essential for teleportation."
      ],
      "metadata": {
        "id": "VsfbyZcZuywF"
      }
    },
    {
      "cell_type": "code",
      "source": [
        "\n",
        "# Step 3: Create entanglement between qubit 1 and 2 (shared EPR pair between Alice and Bob)\n",
        "qc.h(_)\n",
        "qc.cx(_, _)\n"
      ],
      "metadata": {
        "id": "ftX_O8Jytf1u"
      },
      "execution_count": null,
      "outputs": []
    },
    {
      "cell_type": "markdown",
      "source": [
        "# Step 4: Bell-state measurement\n",
        "Alice performs a Bell measurement on:\n",
        "\n",
        "Qubit 0 (her input state).\n",
        "\n",
        "Qubit 1 (her entangled qubit).\n",
        "\n",
        "This involves:\n",
        "\n",
        "CX(0, 1) — entangles the input with her part of the EPR pair.\n",
        "\n",
        "H(0) — transforms into Bell basis.\n",
        "\n",
        "At this point, Alice has encoded information about the input state into the entangled pair.\n",
        "\n"
      ],
      "metadata": {
        "id": "P9Jn5DW-u6Zq"
      }
    },
    {
      "cell_type": "code",
      "source": [
        "\n",
        "# Step 4: Bell-state measurement on Alice's qubits (0 and 1)\n",
        "qc.cx(_, _)\n",
        "qc.h(_)\n"
      ],
      "metadata": {
        "id": "AHEolVxFthWW"
      },
      "execution_count": null,
      "outputs": []
    },
    {
      "cell_type": "markdown",
      "source": [
        "# Step 5: Measure Alice’s qubits\n",
        "Alice measures qubits 0 and 1 (her two qubits).\n",
        "\n",
        "This collapses the state and gives two classical bits.\n",
        "\n",
        "These bits are supposed to tell Bob which gate(s) to apply to his qubit to reconstruct the original state.\n",
        "\n",
        "But since we don't use c_if, we do this classically (next steps).\n",
        "\n",
        "You are wondering what c_if is? **Look it up and answer here:**\n",
        "\n",
        "Why do you think we didn't use c_if here? **Your answer here:**"
      ],
      "metadata": {
        "id": "ICK9zOv-vISu"
      }
    },
    {
      "cell_type": "code",
      "source": [
        "\n",
        "# Step 5: Simulate the circuit up to this point (before measurement and classical corrections)\n",
        "# We will manually apply corrections to the statevector based on the expected measurement outcomes\n",
        "\n",
        "# Simulate to get statevector before measurement\n",
        "initial_state_before_measurement = Statevector.from_instruction(qc)\n",
        "\n",
        "# Display the statevector before measurement (optional)\n",
        "print(\"Statevector before measurement and correction:\")\n",
        "print(initial_state_before_measurement)\n"
      ],
      "metadata": {
        "id": "oFZ-T3W-tjLS"
      },
      "execution_count": null,
      "outputs": []
    },
    {
      "cell_type": "markdown",
      "source": [
        "# Step 6: Simulate state and apply corrections manually\n",
        "Instead of applying gates based on c_if, we simulate what happens under each possible measurement outcome:\n",
        "\n",
        "'00' → no correction\n",
        "\n",
        "'01' → apply X to qubit 2\n",
        "\n",
        "'10' → apply Z to qubit 2\n",
        "\n",
        "'11' → apply X then Z to qubit 2\n",
        "\n",
        "Each branch is handled by projecting the statevector and applying gates classically.\n",
        "\n",
        "This simulates the corrections Bob would do based on Alice’s result."
      ],
      "metadata": {
        "id": "XwOEg8LfvjIJ"
      }
    },
    {
      "cell_type": "code",
      "source": [
        "\n",
        "# Step 6: Manually apply corrections to qubit 2 depending on the *expected* measurement result\n",
        "# We'll project the statevector onto each possible measurement outcome and apply the corresponding correction\n",
        "\n",
        "def apply_correction(meas_result, statevec):\n",
        "    qc_corr = QuantumCircuit(3)\n",
        "    if meas_result == _:\n",
        "        pass\n",
        "    elif meas_result == _:\n",
        "        qc_corr.x(_)\n",
        "    elif meas_result == _:\n",
        "        qc_corr.z(_)\n",
        "    elif meas_result == _:\n",
        "        qc_corr.x(_)\n",
        "        qc_corr.z(_)\n",
        "    return statevec.evolve(qc_corr)\n",
        "\n",
        "# Possible measurement outcomes for qubits 0 and 1\n",
        "possible_measurements = [_, _, _, _]\n",
        "corrected_states = {}\n"
      ],
      "metadata": {
        "colab": {
          "base_uri": "https://localhost:8080/",
          "height": 387
        },
        "id": "iSrukX9vpitx",
        "outputId": "f65fb6cd-6d41-423d-e0f0-2c0f958a66f9"
      },
      "execution_count": null,
      "outputs": [
        {
          "output_type": "stream",
          "name": "stdout",
          "text": [
            "Statevector before measurement and correction:\n",
            "Statevector([ 0.35355339+0.j,  0.35355339+0.j,  0.35355339+0.j,\n",
            "             -0.35355339+0.j,  0.35355339+0.j, -0.35355339+0.j,\n",
            "              0.35355339+0.j,  0.35355339+0.j],\n",
            "            dims=(2, 2, 2))\n"
          ]
        },
        {
          "output_type": "display_data",
          "data": {
            "text/plain": [
              "<Figure size 1600x400 with 4 Axes>"
            ],
            "image/png": "[encoded data removed]"
          },
          "metadata": {}
        }
      ]
    },
    {
      "cell_type": "markdown",
      "source": [
        "# What you're doing next:\n",
        "You are now going one level deeper than using Qiskit’s built-in .project() function. You're manually projecting the statevector onto each possible measurement outcome from Alice’s qubits (qubit 0 and 1), then normalizing, correcting, and finally visualizing Bob's qubit."
      ],
      "metadata": {
        "id": "WJBscdgXwcNT"
      }
    },
    {
      "cell_type": "markdown",
      "source": [
        "# Step 7:\n",
        "**Loop over all possible measurement results from Alice:**\n",
        "\n",
        "The possible 2-bit outcomes for qubits 0 and 1 are '00', '01', '10', and '11'.\n",
        "\n",
        "**Manually project the statevector:**\n",
        "\n",
        "You manually isolate only the parts of the full quantum state that match the measurement outcome.\n",
        "\n",
        "Qiskit uses little-endian ordering, meaning qubit 0 is the rightmost bit when interpreting binary indices.\n",
        "\n",
        "To match the measurement outcome to the proper indices in the statevector, you reverse the string using meas[::-1].\n",
        "\n",
        "**Build a new statevector with just the components that match the outcome:**\n",
        "\n",
        "You zero out all amplitudes that don't match the measurement.\n",
        "\n",
        "This is like filtering the quantum state to keep only the paths that are consistent with Alice’s result.\n",
        "\n",
        "**Normalize the projected state:**\n",
        "\n",
        "A valid quantum state must be normalized (total probability = 1).\n",
        "\n",
        "You compute the norm, and skip cases where it’s too close to zero (numerical noise or improbable branches).\n",
        "\n",
        "**Apply Bob's correction manually:**\n",
        "\n",
        "For each valid projected state, apply the proper correction gates (X, Z, or both) to Bob’s qubit (qubit 2).\n",
        "\n",
        "This simulates what Bob would do once he learns Alice’s measurement result\n",
        "\n",
        "question: What limitations do you think qiskit has that made us to manually project the statevector? **Your answer here: **"
      ],
      "metadata": {
        "id": "4l4n_b9KwtZx"
      }
    },
    {
      "cell_type": "code",
      "source": [
        "for meas in possible_measurements:\n",
        "    # Manually project statevector onto each measurement outcome (qubits 0 and 1)\n",
        "    # Keep the components of the statevector where qubits 0 and 1 match the measurement outcome\n",
        "    proj_state_data = np.zeros_like(initial_state_before_measurement.data)\n",
        "    # Qiskit uses little-endian ordering for qubits in the statevector, so the binary\n",
        "    # representation of the index i is ordered as q(n-1) ... q2 q1 q0.\n",
        "    # We are projecting on qubits 0 and 1, which are the last two bits in this ordering.\n",
        "    # The measurement outcome 'meas' is given as 'q0q1'.\n",
        "    # So, if meas = '01', we are looking for indices where the last two bits (q1 q0) are '10' (binary representation of 2).\n",
        "    meas_value_bin_qiskit_order = meas[_] # Reverse 'q0q1' to 'q1q0' to match the order in the binary representation of the index\n",
        "\n",
        "    for i in range(2**_):\n",
        "        binary_repr = bin(_)[2:].zfill(_)\n",
        "        # Extract bits for qubits 0 and 1 (q1 q0) from the binary representation of the index\n",
        "        qubit_0_1_bits_from_index = binary_repr[_]\n",
        "\n",
        "        if qubit_0_1_bits_from_index == meas_value_bin_qiskit_order:\n",
        "            proj_state_data[_] = initial_state_before_measurement.data[_]\n",
        "\n",
        "    # Create a new Statevector from the projected data\n",
        "    proj_state = Statevector(_)\n",
        "\n",
        "    # Normalize the projected state (if it's not the zero vector)\n",
        "    norm = np.linalg.norm(_.data)\n",
        "    if norm > _: # Use a small tolerance to avoid division by zero\n",
        "        normalized_proj_state = _ / _\n",
        "        corrected = apply_correction(_, _)\n",
        "        corrected_states[_] = corrected\n",
        "    else:\n",
        "        # Handle cases where the projection results in a zero vector (this outcome is not possible)\n",
        "        print(f\"Projection for measurement {meas} resulted in a zero vector. Skipping.\")\n"
      ],
      "metadata": {
        "id": "j0Ulh2Y6wt_R"
      },
      "execution_count": null,
      "outputs": []
    },
    {
      "cell_type": "markdown",
      "source": [
        "# Step 8: Bloch Vector Visualization of Bob’s Qubit\n",
        "**Define Pauli operators:**\n",
        "\n",
        "You define\n",
        "𝑋, 𝑌, and 𝑍 operators as matrices.\n",
        "\n",
        "These are used to extract Bloch vector components.\n",
        "\n",
        "**Trace out Alice’s qubits:**\n",
        "\n",
        "You use partial_trace to remove qubits 0 and 1, leaving only Bob’s qubit state.\n",
        "\n",
        "**Calculate the Bloch vector:**\n",
        "\n",
        "For each corrected state, calculate the expectation values of 𝑋, 𝑌, and 𝑍.\n",
        "\n",
        "These values determine the Bloch vector of the final state — a 3D vector showing its position on the Bloch sphere.\n",
        "\n",
        "**Plot the Bloch vectors:**\n",
        "\n",
        "You generate one Bloch sphere plot for each measurement result.\n",
        "\n",
        "If teleportation is successful, the vectors should point in the same direction as the original state you prepared in Step 2."
      ],
      "metadata": {
        "id": "zq6e0SV5yOt4"
      }
    },
    {
      "cell_type": "code",
      "source": [
        "# Define Pauli operators as Operators\n",
        "X_op = Operator(_)\n",
        "Y_op = Operator(_)\n",
        "Z_op = Operator(_)\n",
        "\n",
        "# Plot Bloch vectors of corrected qubit (Bob’s qubit 2) for each case\n",
        "fig, axs = plt.subplots(1, len(corrected_states), figsize=(4 * len(corrected_states), 4))\n",
        "for i, (_, _) in enumerate(corrected_states.items()):\n",
        "    # Trace out Alice's qubits (0 and 1) to get the reduced density matrix for qubit 2\n",
        "    rho = partial_trace(_, [0,1])\n",
        "    # Calculate Bloch vector components from the reduced density matrix using expectation_value\n",
        "    bloch = [np.real(rho.expectation_value(_)),\n",
        "             np.real(rho.expectation_value(_)),\n",
        "             np.real(rho.expectation_value(_))]\n",
        "    # plot_bloch_vector(bloch, title=f\"After correction\\n(meas={meas})\", ax=axs[i])\n",
        "\n",
        "    #### YOUR Code HERE!\n",
        "    #### Visualize the Bloch Vectors\n",
        "\n",
        "plt.tight_layout()\n",
        "plt.show()"
      ],
      "metadata": {
        "id": "pI5k6tExpirX"
      },
      "execution_count": null,
      "outputs": []
    },
    {
      "cell_type": "markdown",
      "source": [
        "# Step 9: Explore Interference Using Hadamard on Bob’s Qubit\n",
        "\n",
        "After Bob has applied his correction and you’ve isolated his qubit (qubit 2), apply a Hadamard gate to that qubit.\n",
        "\n",
        "Then measure the result to see how likely it is to be |0⟩ or |1⟩.\n",
        "\n",
        "This tests how quantum interference behaves for the different input states you teleported (like |+⟩ or |-⟩).\n",
        "\n",
        "\n"
      ],
      "metadata": {
        "id": "15N0wt3zz5Nz"
      }
    },
    {
      "cell_type": "code",
      "source": [
        "from qiskit import ClassicalRegister\n",
        "\n",
        "print(\"\\n=== Interference Analysis via Hadamard on Bob's Qubit ===\")\n",
        "for meas, state in corrected_states.items():\n",
        "    # Create a new circuit to apply H and measure qubit 2\n",
        "    qc_intf = QuantumCircuit(_, _)\n",
        "    qc_intf.set_statevector(_)\n",
        "    qc_intf.h(_)\n",
        "    qc_intf.measure(_, _)\n",
        "\n",
        "    # Simulate measurement\n",
        "    backend = AerSimulator()\n",
        "    t_qc_intf = transpile(_, _)\n",
        "    result = backend.run(_, shots=1000).result()\n",
        "    counts = result.get_counts()\n",
        "\n",
        "    print(f\"Measurement = {_} → Interference result on Bob's qubit after H: {_}\")\n"
      ],
      "metadata": {
        "id": "i3Crh_XNz4eY"
      },
      "execution_count": null,
      "outputs": []
    }
  ]
}