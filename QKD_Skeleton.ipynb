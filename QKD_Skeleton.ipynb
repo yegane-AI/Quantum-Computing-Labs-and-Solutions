{
  "nbformat": 4,
  "nbformat_minor": 0,
  "metadata": {
    "colab": {
      "provenance": []
    },
    "kernelspec": {
      "name": "python3",
      "display_name": "Python 3"
    },
    "language_info": {
      "name": "python"
    }
  },
  "cells": [
    {
      "cell_type": "code",
      "source": [
        "# !pip install qiskit\n",
        "# !pip install pylatexenc\n",
        "# !pip install qiskit_aer"
      ],
      "metadata": {
        "id": "7vicwjvVasl8"
      },
      "execution_count": null,
      "outputs": []
    },
    {
      "cell_type": "markdown",
      "source": [
        "# Quantum Key Distribution Lab\n",
        "Deadline: 07/10, 11:59 PM!"
      ],
      "metadata": {
        "id": "mWXYfbZT2Pug"
      }
    },
    {
      "cell_type": "code",
      "source": [
        "from qiskit import QuantumCircuit, transpile\n",
        "from qiskit_aer import AerSimulator\n",
        "from qiskit_aer.noise import NoiseModel, depolarizing_error\n",
        "import numpy as np\n",
        "import random\n",
        "import matplotlib.pyplot as plt\n"
      ],
      "metadata": {
        "id": "VrXw-0tY7wG5"
      },
      "execution_count": null,
      "outputs": []
    },
    {
      "cell_type": "markdown",
      "source": [
        "# Before you start:\n",
        "Get a rough idea of Qauntum Key Distribution. We'll cover it later in the course.\n",
        "\n",
        "Some Helpful resources on QKD:\n",
        "\n",
        "https://ocw.tudelft.nl/course-lectures/6-1-1-intro-qkd/?course_id=22166\n",
        "\n",
        "https://ocw.tudelft.nl/course-lectures/6-2-1-definitions-concepts-qkd/?course_id=22166\n",
        "\n"
      ],
      "metadata": {
        "id": "W0uFriCl2YKi"
      }
    },
    {
      "cell_type": "markdown",
      "source": [
        "# Step 1: Generate Bits and Bases\n",
        "**What we're doing:**\n",
        "We simulate Alice randomly generating n bits (0s and 1s) and choosing a random basis (Z or X) for each bit.\n",
        "\n",
        "**Why it matters:**\n",
        "In the BB84 protocol, using random bases ensures that only Alice and Bob—who compare their bases later—can agree on a secret key. Anyone guessing the basis (like Eve) introduces errors."
      ],
      "metadata": {
        "id": "U_II8oDe7gRF"
      }
    },
    {
      "cell_type": "code",
      "source": [
        "\n",
        "# Step 1: Generate random bits and bases\n",
        "def generate_bits_and_bases(n):\n",
        "    bits = [random.randint(0, 1) for _ in range(n)]\n",
        "    bases = [random.choice([___, ___]) for _ in range(n)]\n",
        "    return bits, bases\n"
      ],
      "metadata": {
        "id": "5T-7ZEYw749y"
      },
      "execution_count": null,
      "outputs": []
    },
    {
      "cell_type": "markdown",
      "source": [
        "# Step 2: Encode Qubits Based on Bits and Bases\n",
        "**What we're doing:**\n",
        "We create a quantum circuit for each qubit:\n",
        "\n",
        "If Alice’s bit is 1, apply an X gate (this flips 0 → 1).\n",
        "\n",
        "If her basis is X, apply an H (Hadamard) gate to go into superposition.\n",
        "\n",
        "**Why it matters:**\n",
        "These steps prepare each qubit in a quantum state that depends on both the bit value and the basis. This randomness adds security—an eavesdropper can't predict the outcome without knowing the basis."
      ],
      "metadata": {
        "id": "7Pd7TPF_9K6O"
      }
    },
    {
      "cell_type": "code",
      "source": [
        "# Step 2: Alice encodes qubits\n",
        "def encode_qubits(bits, bases):\n",
        "    circuits = []\n",
        "    for bit, basis in zip(bits, bases):\n",
        "        qc = QuantumCircuit(___, ___)\n",
        "        if bit == ___:\n",
        "            qc.x(__)\n",
        "        if basis == ___:\n",
        "            qc.h(_)\n",
        "        circuits.append(__)\n",
        "    return circuits"
      ],
      "metadata": {
        "id": "TsEFoIkl76JR"
      },
      "execution_count": null,
      "outputs": []
    },
    {
      "cell_type": "markdown",
      "source": [
        "# Step 3: Eve Intercepts (Optional)\n",
        "**What we're doing:**\n",
        "Here, we simulate an eavesdropper named Eve who measures each qubit in a randomly chosen basis. She then prepares a new qubit to send to Bob, based on her result.\n",
        "\n",
        "**Why it matters**:\n",
        "Eve’s measurement disturbs the quantum state if she chooses the wrong basis. This disturbance is what allows Alice and Bob to detect the presence of eavesdropping."
      ],
      "metadata": {
        "id": "tDG6GhbP9Sl_"
      }
    },
    {
      "cell_type": "code",
      "source": [
        "# Step 3: Eve intercepts (optional, extra credit)\n",
        "\n",
        "def eve_intercepts(circuits, eve_bases):\n",
        "    new_circuits = []\n",
        "    backend = AerSimulator() # Use AerSimulator directly\n",
        "    for qc, basis in zip(circuits, eve_bases):\n",
        "        qc_copy = qc.copy()\n",
        "        qc_copy.measure(_, _)\n",
        "        tqc = transpile(_, backend)\n",
        "        result = backend.run(tqc, shots=1).result()\n",
        "        measured_bit = int(list(result.get_counts().keys())[0])\n",
        "        qc_new = QuantumCircuit(_, _)\n",
        "        if measured_bit == _:\n",
        "            qc_new.x(_)\n",
        "        if basis == _:\n",
        "            qc_new.h(_)\n",
        "        new_circuits.append(_)\n",
        "    return new_circuits\n"
      ],
      "metadata": {
        "id": "SRxR3miq8Njs"
      },
      "execution_count": null,
      "outputs": []
    },
    {
      "cell_type": "markdown",
      "source": [
        "# Step 4: Bob Measures the Qubits\n",
        "**What we're doing:**\n",
        "Bob receives the qubits (either from Alice directly or via Eve) and measures them in randomly chosen bases (Z or X). Before measuring:\n",
        "\n",
        "If his basis is X, he applies an H gate to rotate into the right measurement frame.\n",
        "\n",
        "Then he measures the qubit to get 0 or 1.\n",
        "\n",
        "**Why it matters:**\n",
        "If Bob uses the same basis that Alice used, he should get the same bit value—unless Eve (or noise) caused errors."
      ],
      "metadata": {
        "id": "D8FZHzqY9pb5"
      }
    },
    {
      "cell_type": "code",
      "source": [
        "\n",
        "# Step 4: Bob measures\n",
        "def bob_measures(circuits, bob_bases, noise_model=None): # Added noise_model parameter\n",
        "    measured_bits = []\n",
        "    backend = AerSimulator()\n",
        "    if noise_model:\n",
        "        backend = AerSimulator(noise_model=noise_model) # Initialize backend with noise\n",
        "    for qc, basis in zip(circuits, bob_bases):\n",
        "        if basis == _:\n",
        "            qc.h(_)\n",
        "        qc.measure(_, _)\n",
        "        tqc = transpile(qc, backend)\n",
        "        result = backend.run(tqc, shots=1).result()\n",
        "        measured_bit = int(list(result.get_counts().keys())[0])\n",
        "        measured_bits.append(_)\n",
        "    return measured_bits\n"
      ],
      "metadata": {
        "id": "XMvgqWau8Pf7"
      },
      "execution_count": null,
      "outputs": []
    },
    {
      "cell_type": "markdown",
      "source": [
        "# Step 5: Sift the Key (Compare Bases)\n",
        "**What we're doing:**\n",
        "Alice and Bob compare which bases they used over a public channel and keep only the bits where their bases matched.\n",
        "\n",
        "**Why it matters:**\n",
        "Only those matching positions can be part of the secret key. The rest are discarded because the measurement would be unreliable."
      ],
      "metadata": {
        "id": "ctSvBfxL90b7"
      }
    },
    {
      "cell_type": "code",
      "source": [
        "\n",
        "# Step 5: Sift keys\n",
        "def sift_keys(alice_bits, alice_bases, bob_bits, bob_bases):\n",
        "    key_a, key_b = [], []\n",
        "    for a_bit, a_basis, b_bit, b_basis in zip(alice_bits, alice_bases, bob_bits, bob_bases):\n",
        "        if a_basis == __:\n",
        "            key_a.append(_)\n",
        "            key_b.append(_)\n",
        "    return key_a, key_b\n"
      ],
      "metadata": {
        "id": "c6XlATGB8RpK"
      },
      "execution_count": null,
      "outputs": []
    },
    {
      "cell_type": "markdown",
      "source": [
        "# Step 6: Compute QBER (Quantum Bit Error Rate)\n",
        "**What we're doing:**\n",
        "We compare Alice’s and Bob’s sifted keys and calculate how many bits differ (errors).\n",
        "\n",
        "**Formula:**\n",
        "QBER = (Number of mismatches) ÷ (Length of sifted key)\n",
        "\n",
        "**Why it matters:**\n",
        "If QBER is high, something is wrong! This could be due to Eve or noisy hardware. A high QBER means the key is not secure and must be discarded."
      ],
      "metadata": {
        "id": "bYnBNAkr99xe"
      }
    },
    {
      "cell_type": "code",
      "source": [
        "\n",
        "# Step 6: QBER calculation\n",
        "def compute_qber(key_a, key_b):\n",
        "    if not key_a:\n",
        "        return 0\n",
        "    mismatches = sum([_ != _ for _, _ in zip(key_a, key_b)])\n",
        "    return mismatches / len(key_a)\n",
        "\n"
      ],
      "metadata": {
        "id": "rcrSgcLH83uJ"
      },
      "execution_count": null,
      "outputs": []
    },
    {
      "cell_type": "markdown",
      "source": [
        "# Step 7: Add Noise and Simulate Again\n",
        "**What we're doing:**\n",
        "We add depolarizing noise to the quantum operations using Qiskit's noise model. This simulates real-world imperfections in quantum hardware (e.g., gates not working perfectly).\n",
        "\n",
        "**Why it matters:**\n",
        "Noise is unavoidable in real quantum computers. By simulating it, we can study how it affects QKD security and compare it to errors from eavesdropping."
      ],
      "metadata": {
        "id": "xo4tPXCV-HM7"
      }
    },
    {
      "cell_type": "code",
      "execution_count": null,
      "metadata": {
        "colab": {
          "base_uri": "https://localhost:8080/",
          "height": 452
        },
        "id": "diMAP_7QarC3",
        "outputId": "5c646b75-900b-4765-e298-b65c95e1ec90"
      },
      "outputs": [
        {
          "output_type": "display_data",
          "data": {
            "text/plain": [
              "<Figure size 640x480 with 1 Axes>"
            ],
            "image/png": "[encoded data removed]"
          },
          "metadata": {}
        }
      ],
      "source": [
        "##### Noise\n",
        "\n",
        "n = 100\n",
        "alice_bits, alice_bases = generate_bits_and_bases(n)\n",
        "alice_circuits = encode_qubits(alice_bits, alice_bases)\n",
        "intercepted_circuits = alice_circuits  # No Eve for now\n",
        "bob_bases = [random.choice([_ , _]) for _ in range(n)] # hint: 'Z' and 'X'\n",
        "\n",
        "# Run without noise\n",
        "bob_results_no_noise = bob_measures(intercepted_circuits, bob_bases)\n",
        "key_a_no_noise, key_b_no_noise = sift_keys(alice_bits, alice_bases, bob_results_no_noise, bob_bases)\n",
        "qber_no_noise = compute_qber(key_a_no_noise, key_b_no_noise)\n",
        "\n",
        "# Add depolarizing noise model\n",
        "noise_model = NoiseModel()\n",
        "error = depolarizing_error(0.1, 1)  # 10% noise\n",
        "noise_model.add_all_qubit_quantum_error(error, ['x', 'h'])\n",
        "\n",
        "# Run with noise\n",
        "bob_results_with_noise = bob_measures(intercepted_circuits, bob_bases, noise_model=noise_model)\n",
        "key_a_noise, key_b_noise = sift_keys(alice_bits, alice_bases, bob_results_with_noise, bob_bases)\n",
        "qber_with_noise = compute_qber(key_a_noise, key_b_noise)\n",
        "\n"
      ]
    },
    {
      "cell_type": "markdown",
      "source": [
        "# Step 8: Visualize QBER\n",
        "**What we're doing:**\n",
        "We plot the QBER from two experiments:\n",
        "\n",
        "No noise\n",
        "\n",
        "With 10% depolarizing noise\n",
        "\n",
        "**Why it matters:**\n",
        "This visual helps you understand how even small amounts of noise affect the accuracy and reliability of QKD systems."
      ],
      "metadata": {
        "id": "Kz0WPUuo-Tae"
      }
    },
    {
      "cell_type": "code",
      "source": [
        "# Visualize QBER\n",
        "labels = ['No Noise', 'With Noise']\n",
        "qbers = [qber_no_noise, qber_with_noise]\n",
        "\n",
        "plt.bar(labels, qbers)\n",
        "plt.title(\"Quantum Bit Error Rate (QBER) Comparison\")\n",
        "plt.ylabel(\"QBER\")\n",
        "plt.ylim(0, 1)\n",
        "plt.grid(True)\n",
        "plt.show()"
      ],
      "metadata": {
        "id": "c67sKJcC9HEp"
      },
      "execution_count": null,
      "outputs": []
    },
    {
      "cell_type": "code",
      "source": [
        "print(f\"QBER without noise: {qber_no_noise:.2f}\")\n",
        "print(f\"QBER with noise:    {qber_with_noise:.2f}\")"
      ],
      "metadata": {
        "id": "_Rq0v6eJNzUV"
      },
      "execution_count": null,
      "outputs": []
    },
    {
      "cell_type": "code",
      "source": [
        "# ########## Optional: uncomment to see the effect of eve_intercepts\n",
        "# # Step 7: Run full protocol\n",
        "# n = 100\n",
        "# alice_bits, alice_bases = generate_bits_and_bases(n)\n",
        "# alice_circuits = encode_qubits(alice_bits, alice_bases)\n",
        "\n",
        "# # Simulate Eve (comment next 2 lines to disable Eve)\n",
        "# eve_bases = [random.choice(['Z', 'X']) for _ in range(n)]\n",
        "# intercepted_circuits = eve_intercepts(alice_circuits, eve_bases)\n",
        "\n",
        "# # Use Alice's original circuits if Eve is inactive:\n",
        "# # intercepted_circuits = alice_circuits\n",
        "\n",
        "# bob_bases = [random.choice(['Z', 'X']) for _ in range(n)]\n",
        "# bob_results = bob_measures(intercepted_circuits, bob_bases)\n",
        "\n",
        "# key_alice, key_bob = sift_keys(alice_bits, alice_bases, bob_results, bob_bases)\n",
        "# qber = compute_qber(key_alice, key_bob)\n",
        "\n",
        "# print(f\"Sifted Key Length: {len(key_alice)}\")\n",
        "# print(f\"Key Alice: {key_alice}\")\n",
        "# print(f\"Key Bob:   {key_bob}\")\n",
        "# print(f\"QBER: {qber:.2f}\")\n"
      ],
      "metadata": {
        "id": "y8svGrrv8ftL"
      },
      "execution_count": null,
      "outputs": []
    }
  ]
}