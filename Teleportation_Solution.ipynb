{
  "nbformat": 4,
  "nbformat_minor": 0,
  "metadata": {
    "colab": {
      "provenance": []
    },
    "kernelspec": {
      "name": "python3",
      "display_name": "Python 3"
    },
    "language_info": {
      "name": "python"
    }
  },
  "cells": [
    {
      "cell_type": "code",
      "source": [
        "# !pip install qiskit\n",
        "# !pip install pylatexenc\n",
        "# !pip install qiskit_aer"
      ],
      "metadata": {
        "id": "n-H4ROcss6rY"
      },
      "execution_count": null,
      "outputs": []
    },
    {
      "cell_type": "code",
      "source": [
        "from qiskit import QuantumCircuit, transpile\n",
        "from qiskit_aer import AerSimulator\n",
        "from qiskit.quantum_info import Statevector, partial_trace, Operator\n",
        "import numpy as np\n",
        "import matplotlib.pyplot as plt\n",
        "\n",
        "##### You are allowed to use other libraries for the bloch sphere visualization, instead of qiskit.visualization.\n",
        "from qiskit.visualization import plot_bloch_vector ## Don't need this one? comment it out!\n",
        "###### Do you need more libraries for visualization? Import them! :)"
      ],
      "metadata": {
        "id": "iuuwC7cRs9CD"
      },
      "execution_count": null,
      "outputs": []
    },
    {
      "cell_type": "code",
      "source": [
        "# Step 1: Initialize a quantum circuit with 3 qubits (no classical bits needed for statevector simulation)\n",
        "qc = QuantumCircuit(3)\n"
      ],
      "metadata": {
        "id": "JO3ElxI_taDb"
      },
      "execution_count": null,
      "outputs": []
    },
    {
      "cell_type": "code",
      "source": [
        "\n",
        "# Step 2: Prepare the state to teleport (qubit 0) — simulate classical input (like in superdense coding)\n",
        "# Let's define a parameterized input state based on two classical bits (00, 01, 10, 11)\n",
        "input_bits = '10'  # Change this to '00', '01', '10', or '11' to test other cases\n",
        "\n",
        "if input_bits == '00':\n",
        "    pass  # |0>\n",
        "elif input_bits == '01':\n",
        "    qc.x(0)  # |1>\n",
        "elif input_bits == '10':\n",
        "    qc.h(0)  # |+>\n",
        "elif input_bits == '11':\n",
        "    qc.x(0)\n",
        "    qc.h(0)  # |->\n"
      ],
      "metadata": {
        "id": "w8rVjC_cteW8"
      },
      "execution_count": null,
      "outputs": []
    },
    {
      "cell_type": "code",
      "source": [
        "\n",
        "# Step 3: Create entanglement between qubit 1 and 2 (shared EPR pair between Alice and Bob)\n",
        "qc.h(1)\n",
        "qc.cx(1, 2)\n"
      ],
      "metadata": {
        "id": "ftX_O8Jytf1u"
      },
      "execution_count": null,
      "outputs": []
    },
    {
      "cell_type": "code",
      "source": [
        "\n",
        "# Step 4: Bell-state measurement on Alice's qubits (0 and 1)\n",
        "qc.cx(0, 1)\n",
        "qc.h(0)\n"
      ],
      "metadata": {
        "id": "AHEolVxFthWW"
      },
      "execution_count": null,
      "outputs": []
    },
    {
      "cell_type": "code",
      "source": [
        "\n",
        "# Step 5: Simulate the circuit up to this point (before measurement and classical corrections)\n",
        "# We will manually apply corrections to the statevector based on the expected measurement outcomes\n",
        "\n",
        "# Simulate to get statevector before measurement\n",
        "initial_state_before_measurement = Statevector.from_instruction(qc)\n",
        "\n",
        "# Display the statevector before measurement (optional)\n",
        "print(\"Statevector before measurement and correction:\")\n",
        "print(initial_state_before_measurement)\n"
      ],
      "metadata": {
        "id": "oFZ-T3W-tjLS"
      },
      "execution_count": null,
      "outputs": []
    },
    {
      "cell_type": "code",
      "source": [
        "\n",
        "# Step 6: Manually apply corrections to qubit 2 depending on the *expected* measurement result\n",
        "# We'll project the statevector onto each possible measurement outcome and apply the corresponding correction\n",
        "\n",
        "def apply_correction(meas_result, statevec):\n",
        "    qc_corr = QuantumCircuit(3)\n",
        "    if meas_result == '00':\n",
        "        pass\n",
        "    elif meas_result == '01':\n",
        "        qc_corr.x(2)\n",
        "    elif meas_result == '10':\n",
        "        qc_corr.z(2)\n",
        "    elif meas_result == '11':\n",
        "        qc_corr.x(2)\n",
        "        qc_corr.z(2)\n",
        "    return statevec.evolve(qc_corr)\n",
        "\n",
        "# Possible measurement outcomes for qubits 0 and 1\n",
        "possible_measurements = ['00', '01', '10', '11']\n",
        "corrected_states = {}\n",
        "\n",
        "for meas in possible_measurements:\n",
        "    # Manually project statevector onto each measurement outcome (qubits 0 and 1)\n",
        "    # Keep the components of the statevector where qubits 0 and 1 match the measurement outcome\n",
        "    proj_state_data = np.zeros_like(initial_state_before_measurement.data)\n",
        "    # Qiskit uses little-endian ordering for qubits in the statevector, so the binary\n",
        "    # representation of the index i is ordered as q(n-1) ... q2 q1 q0.\n",
        "    # We are projecting on qubits 0 and 1, which are the last two bits in this ordering.\n",
        "    # The measurement outcome 'meas' is given as 'q0q1'.\n",
        "    # So, if meas = '01', we are looking for indices where the last two bits (q1 q0) are '10' (binary representation of 2).\n",
        "    meas_value_bin_qiskit_order = meas[::-1] # Reverse 'q0q1' to 'q1q0' to match the order in the binary representation of the index\n",
        "\n",
        "    for i in range(2**qc.num_qubits):\n",
        "        binary_repr = bin(i)[2:].zfill(qc.num_qubits)\n",
        "        # Extract bits for qubits 0 and 1 (q1 q0) from the binary representation of the index\n",
        "        qubit_0_1_bits_from_index = binary_repr[-2:]\n",
        "\n",
        "        if qubit_0_1_bits_from_index == meas_value_bin_qiskit_order:\n",
        "            proj_state_data[i] = initial_state_before_measurement.data[i]\n",
        "\n",
        "    # Create a new Statevector from the projected data\n",
        "    proj_state = Statevector(proj_state_data)\n",
        "\n",
        "    # Normalize the projected state (if it's not the zero vector)\n",
        "    norm = np.linalg.norm(proj_state.data)\n",
        "    if norm > 1e-9: # Use a small tolerance to avoid division by zero\n",
        "        normalized_proj_state = proj_state / norm\n",
        "        corrected = apply_correction(meas, normalized_proj_state)\n",
        "        corrected_states[meas] = corrected\n",
        "    else:\n",
        "        # Handle cases where the projection results in a zero vector (this outcome is not possible)\n",
        "        print(f\"Projection for measurement {meas} resulted in a zero vector. Skipping.\")\n",
        "\n",
        "\n",
        "# Define Pauli operators as Operators\n",
        "X_op = Operator([[0, 1], [1, 0]])\n",
        "Y_op = Operator([[0, -1j], [1j, 0]])\n",
        "Z_op = Operator([[1, 0], [0, -1]])\n",
        "\n",
        "# Plot Bloch vectors of corrected qubit (Bob’s qubit 2) for each case\n",
        "fig, axs = plt.subplots(1, len(corrected_states), figsize=(4 * len(corrected_states), 4))\n",
        "for i, (meas, state) in enumerate(corrected_states.items()):\n",
        "    # Trace out Alice's qubits (0 and 1) to get the reduced density matrix for qubit 2\n",
        "    rho = partial_trace(state, [0,1])\n",
        "    # Calculate Bloch vector components from the reduced density matrix using expectation_value\n",
        "    bloch = [np.real(rho.expectation_value(X_op)),\n",
        "             np.real(rho.expectation_value(Y_op)),\n",
        "             np.real(rho.expectation_value(Z_op))]\n",
        "    # plot_bloch_vector(bloch, title=f\"After correction\\n(meas={meas})\", ax=axs[i])\n",
        "plt.tight_layout()\n",
        "plt.show()"
      ],
      "metadata": {
        "colab": {
          "base_uri": "https://localhost:8080/",
          "height": 282
        },
        "id": "iSrukX9vpitx",
        "outputId": "f65fb6cd-6d41-423d-e0f0-2c0f958a66f9"
      },
      "execution_count": null,
      "outputs": [
        {
          "output_type": "stream",
          "name": "stdout",
          "text": [
            "Statevector before measurement and correction:\n",
            "Statevector([ 0.35355339+0.j,  0.35355339+0.j,  0.35355339+0.j,\n",
            "             -0.35355339+0.j,  0.35355339+0.j, -0.35355339+0.j,\n",
            "              0.35355339+0.j,  0.35355339+0.j],\n",
            "            dims=(2, 2, 2))\n"
          ]
        },
        {
          "output_type": "display_data",
          "data": {
            "text/plain": [
              "<Figure size 1600x400 with 4 Axes>"
            ],
            "image/png": "[encoded data removed]"
          },
          "metadata": {}
        }
      ]
    },
    {
      "cell_type": "code",
      "source": [
        "from qiskit import ClassicalRegister\n",
        "\n",
        "print(\"\\n=== Interference Analysis via Hadamard on Bob's Qubit ===\")\n",
        "for meas, state in corrected_states.items():\n",
        "    # Create a new circuit to apply H and measure qubit 2\n",
        "    qc_intf = QuantumCircuit(3, 1)\n",
        "    qc_intf.set_statevector(state)\n",
        "    qc_intf.h(2)\n",
        "    qc_intf.measure(2, 0)\n",
        "\n",
        "    # Simulate measurement\n",
        "    backend = AerSimulator()\n",
        "    t_qc_intf = transpile(qc_intf, backend)\n",
        "    result = backend.run(t_qc_intf, shots=1000).result()\n",
        "    counts = result.get_counts()\n",
        "\n",
        "    print(f\"Measurement = {meas} → Interference result on Bob's qubit after H: {counts}\")\n"
      ],
      "metadata": {
        "colab": {
          "base_uri": "https://localhost:8080/"
        },
        "id": "pI5k6tExpirX",
        "outputId": "65cb5665-00ce-4419-c3a0-fae780764753"
      },
      "execution_count": null,
      "outputs": [
        {
          "output_type": "stream",
          "name": "stdout",
          "text": [
            "\n",
            "=== Interference Analysis via Hadamard on Bob's Qubit ===\n",
            "Measurement = 00 → Interference result on Bob's qubit after H: {'0': 1000}\n",
            "Measurement = 01 → Interference result on Bob's qubit after H: {'0': 1000}\n",
            "Measurement = 10 → Interference result on Bob's qubit after H: {'0': 1000}\n",
            "Measurement = 11 → Interference result on Bob's qubit after H: {'0': 1000}\n"
          ]
        }
      ]
    }
  ]
}