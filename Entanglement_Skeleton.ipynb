{
  "nbformat": 4,
  "nbformat_minor": 0,
  "metadata": {
    "colab": {
      "provenance": []
    },
    "kernelspec": {
      "name": "python3",
      "display_name": "Python 3"
    },
    "language_info": {
      "name": "python"
    }
  },
  "cells": [
    {
      "cell_type": "code",
      "source": [
        "# !pip install qiskit\n",
        "# !pip install qiskit_aer\n",
        "# !pip install pylatexenc"
      ],
      "metadata": {
        "colab": {
          "base_uri": "https://localhost:8080/"
        },
        "id": "FDOKtTUMZjV4",
        "outputId": "b3ebc157-a3e3-43b7-dd4f-ad6908999796"
      },
      "execution_count": null,
      "outputs": [
        {
          "output_type": "stream",
          "name": "stdout",
          "text": [
            "Collecting qiskit\n",
            "  Downloading qiskit-2.1.0-cp39-abi3-manylinux_2_17_x86_64.manylinux2014_x86_64.whl.metadata (12 kB)\n",
            "Collecting rustworkx>=0.15.0 (from qiskit)\n",
            "  Downloading rustworkx-0.16.0-cp39-abi3-manylinux_2_17_x86_64.manylinux2014_x86_64.whl.metadata (10 kB)\n",
            "Requirement already satisfied: numpy<3,>=1.17 in /usr/local/lib/python3.11/dist-packages (from qiskit) (2.0.2)\n",
            "Requirement already satisfied: scipy>=1.5 in /usr/local/lib/python3.11/dist-packages (from qiskit) (1.15.3)\n",
            "Requirement already satisfied: dill>=0.3 in /usr/local/lib/python3.11/dist-packages (from qiskit) (0.3.7)\n",
            "Collecting stevedore>=3.0.0 (from qiskit)\n",
            "  Downloading stevedore-5.4.1-py3-none-any.whl.metadata (2.3 kB)\n",
            "Requirement already satisfied: typing-extensions in /usr/local/lib/python3.11/dist-packages (from qiskit) (4.14.0)\n",
            "Collecting pbr>=2.0.0 (from stevedore>=3.0.0->qiskit)\n",
            "  Downloading pbr-6.1.1-py2.py3-none-any.whl.metadata (3.4 kB)\n",
            "Requirement already satisfied: setuptools in /usr/local/lib/python3.11/dist-packages (from pbr>=2.0.0->stevedore>=3.0.0->qiskit) (75.2.0)\n",
            "Downloading qiskit-2.1.0-cp39-abi3-manylinux_2_17_x86_64.manylinux2014_x86_64.whl (7.5 MB)\n",
            "\u001b[2K   \u001b[90m━━━━━━━━━━━━━━━━━━━━━━━━━━━━━━━━━━━━━━━━\u001b[0m \u001b[32m7.5/7.5 MB\u001b[0m \u001b[31m63.7 MB/s\u001b[0m eta \u001b[36m0:00:00\u001b[0m\n",
            "\u001b[?25hDownloading rustworkx-0.16.0-cp39-abi3-manylinux_2_17_x86_64.manylinux2014_x86_64.whl (2.1 MB)\n",
            "\u001b[2K   \u001b[90m━━━━━━━━━━━━━━━━━━━━━━━━━━━━━━━━━━━━━━━━\u001b[0m \u001b[32m2.1/2.1 MB\u001b[0m \u001b[31m70.8 MB/s\u001b[0m eta \u001b[36m0:00:00\u001b[0m\n",
            "\u001b[?25hDownloading stevedore-5.4.1-py3-none-any.whl (49 kB)\n",
            "\u001b[2K   \u001b[90m━━━━━━━━━━━━━━━━━━━━━━━━━━━━━━━━━━━━━━━━\u001b[0m \u001b[32m49.5/49.5 kB\u001b[0m \u001b[31m4.1 MB/s\u001b[0m eta \u001b[36m0:00:00\u001b[0m\n",
            "\u001b[?25hDownloading pbr-6.1.1-py2.py3-none-any.whl (108 kB)\n",
            "\u001b[2K   \u001b[90m━━━━━━━━━━━━━━━━━━━━━━━━━━━━━━━━━━━━━━━━\u001b[0m \u001b[32m109.0/109.0 kB\u001b[0m \u001b[31m9.5 MB/s\u001b[0m eta \u001b[36m0:00:00\u001b[0m\n",
            "\u001b[?25hInstalling collected packages: rustworkx, pbr, stevedore, qiskit\n",
            "Successfully installed pbr-6.1.1 qiskit-2.1.0 rustworkx-0.16.0 stevedore-5.4.1\n",
            "Collecting qiskit_aer\n",
            "  Downloading qiskit_aer-0.17.1-cp311-cp311-manylinux_2_17_x86_64.manylinux2014_x86_64.whl.metadata (8.3 kB)\n",
            "Requirement already satisfied: qiskit>=1.1.0 in /usr/local/lib/python3.11/dist-packages (from qiskit_aer) (2.1.0)\n",
            "Requirement already satisfied: numpy>=1.16.3 in /usr/local/lib/python3.11/dist-packages (from qiskit_aer) (2.0.2)\n",
            "Requirement already satisfied: scipy>=1.0 in /usr/local/lib/python3.11/dist-packages (from qiskit_aer) (1.15.3)\n",
            "Requirement already satisfied: psutil>=5 in /usr/local/lib/python3.11/dist-packages (from qiskit_aer) (5.9.5)\n",
            "Requirement already satisfied: python-dateutil>=2.8.0 in /usr/local/lib/python3.11/dist-packages (from qiskit_aer) (2.9.0.post0)\n",
            "Requirement already satisfied: six>=1.5 in /usr/local/lib/python3.11/dist-packages (from python-dateutil>=2.8.0->qiskit_aer) (1.17.0)\n",
            "Requirement already satisfied: rustworkx>=0.15.0 in /usr/local/lib/python3.11/dist-packages (from qiskit>=1.1.0->qiskit_aer) (0.16.0)\n",
            "Requirement already satisfied: dill>=0.3 in /usr/local/lib/python3.11/dist-packages (from qiskit>=1.1.0->qiskit_aer) (0.3.7)\n",
            "Requirement already satisfied: stevedore>=3.0.0 in /usr/local/lib/python3.11/dist-packages (from qiskit>=1.1.0->qiskit_aer) (5.4.1)\n",
            "Requirement already satisfied: typing-extensions in /usr/local/lib/python3.11/dist-packages (from qiskit>=1.1.0->qiskit_aer) (4.14.0)\n",
            "Requirement already satisfied: pbr>=2.0.0 in /usr/local/lib/python3.11/dist-packages (from stevedore>=3.0.0->qiskit>=1.1.0->qiskit_aer) (6.1.1)\n",
            "Requirement already satisfied: setuptools in /usr/local/lib/python3.11/dist-packages (from pbr>=2.0.0->stevedore>=3.0.0->qiskit>=1.1.0->qiskit_aer) (75.2.0)\n",
            "Downloading qiskit_aer-0.17.1-cp311-cp311-manylinux_2_17_x86_64.manylinux2014_x86_64.whl (12.4 MB)\n",
            "\u001b[2K   \u001b[90m━━━━━━━━━━━━━━━━━━━━━━━━━━━━━━━━━━━━━━━━\u001b[0m \u001b[32m12.4/12.4 MB\u001b[0m \u001b[31m70.4 MB/s\u001b[0m eta \u001b[36m0:00:00\u001b[0m\n",
            "\u001b[?25hInstalling collected packages: qiskit_aer\n",
            "Successfully installed qiskit_aer-0.17.1\n",
            "Collecting pylatexenc\n",
            "  Downloading pylatexenc-2.10.tar.gz (162 kB)\n",
            "\u001b[2K     \u001b[90m━━━━━━━━━━━━━━━━━━━━━━━━━━━━━━━━━━━━━━━\u001b[0m \u001b[32m162.6/162.6 kB\u001b[0m \u001b[31m5.3 MB/s\u001b[0m eta \u001b[36m0:00:00\u001b[0m\n",
            "\u001b[?25h  Preparing metadata (setup.py) ... \u001b[?25l\u001b[?25hdone\n",
            "Building wheels for collected packages: pylatexenc\n",
            "  Building wheel for pylatexenc (setup.py) ... \u001b[?25l\u001b[?25hdone\n",
            "  Created wheel for pylatexenc: filename=pylatexenc-2.10-py3-none-any.whl size=136817 sha256=7e883410bad35714b8cdd173843b51af4de4e9ce87ea42d3ac7eeda32c99ce92\n",
            "  Stored in directory: /root/.cache/pip/wheels/b1/7a/33/9fdd892f784ed4afda62b685ae3703adf4c91aa0f524c28f03\n",
            "Successfully built pylatexenc\n",
            "Installing collected packages: pylatexenc\n",
            "Successfully installed pylatexenc-2.10\n"
          ]
        }
      ]
    },
    {
      "cell_type": "code",
      "execution_count": null,
      "metadata": {
        "id": "yEW2wAPJZghC"
      },
      "outputs": [],
      "source": [
        "# Entanglement Lab: Skeleton\n",
        "\n",
        "# 📌 Step 1: Import the necessary tools\n",
        "# Hint: You'll need QuantumCircuit, AerSimulator, transpile, Statevector, etc.\n",
        "from qiskit import QuantumCircuit, transpile\n",
        "from qiskit.visualization import plot_bloch_multivector, plot_histogram\n",
        "from qiskit.quantum_info import Statevector\n",
        "from qiskit_aer import AerSimulator\n"
      ]
    },
    {
      "cell_type": "code",
      "source": [
        "# 📌 Step 2: Create a 2-qubit quantum circuit\n",
        "# We'll use 2 qubits here because we need a pair to demonstrate entanglement.\n",
        "# qc = QuantumCircuit()"
      ],
      "metadata": {
        "id": "V_MgjIujcdtK"
      },
      "execution_count": null,
      "outputs": []
    },
    {
      "cell_type": "code",
      "source": [
        "# 📌 Step 3: Create superposition on the first qubit\n",
        "# We'll use a Hadamard (H) gate to place qubit 0 into a superposition of |0⟩ and |1⟩.\n",
        "# This means it will be in a \"both at once\" kind of state!\n",
        "# qc.h()"
      ],
      "metadata": {
        "id": "mOrJnwgccf05"
      },
      "execution_count": null,
      "outputs": []
    },
    {
      "cell_type": "code",
      "source": [
        "# 📌 Step 4: Entangle qubit 0 and 1 using a CX gate\n",
        "# Hint: Use the CX (CNOT) gate with control=0, target=1\n",
        "\n",
        "# 🔍 What is CNOT?\n",
        "# CNOT stands for \"Controlled-NOT\". It's a two-qubit gate:\n",
        "# - It flips the second qubit (called the target) ONLY if the first qubit (called the control) is 1.\n",
        "#\n",
        "# This gate connects the states of the two qubits. When combined with superposition, it causes entanglement!\n",
        "# Entanglement means their results are *linked* — measuring one affects the other.\n",
        "\n",
        "\n",
        "# qc.cx(__,__)"
      ],
      "metadata": {
        "id": "5O4jzm95ciOp"
      },
      "execution_count": null,
      "outputs": []
    },
    {
      "cell_type": "code",
      "source": [
        "# 📌 Step 5: Draw the circuit\n",
        "# qc.draw('mpl') # If you ran into a package error, go to the top cell, uncomment the line !pip install pylatexenc.\n",
        "               # Then from Runtime, select restart and run all."
      ],
      "metadata": {
        "id": "ySRhE9cWclJi"
      },
      "execution_count": null,
      "outputs": []
    },
    {
      "cell_type": "code",
      "source": [
        "# 📌 Step 6: Show the statevector of the entangled state\n",
        "\n",
        "# Let's visualize the \"statevector\" — it shows the entire quantum state before measurement.\n",
        "# This step uses math behind the scenes, but the graph gives you a visual idea.\n",
        "\n",
        "# state = Statevector.from_instruction()\n",
        "# plot_bloch_multivector()"
      ],
      "metadata": {
        "id": "eYQYk4EUcnPs"
      },
      "execution_count": null,
      "outputs": []
    },
    {
      "cell_type": "code",
      "source": [
        "# 📌 Step 7: Add measurement to both qubits\n",
        "# Hint: Use qc.measure_all()\n",
        "\n",
        "# When we measure a qubit, it collapses into either 0 or 1.\n",
        "# Here we measure both qubits to see the outcomes of our entangled state.\n",
        "\n",
        "# qc.measure_all()"
      ],
      "metadata": {
        "id": "NmvxLSENco7C"
      },
      "execution_count": null,
      "outputs": []
    },
    {
      "cell_type": "code",
      "source": [
        "# 📌 Step 8: Run the circuit and plot the histogram\n",
        "simulator = AerSimulator()\n",
        "compiled = transpile(qc, simulator)\n",
        "result = simulator.run(compiled, shots=1024).result()\n",
        "counts = result.get_counts()"
      ],
      "metadata": {
        "id": "fJlEParHcr7t"
      },
      "execution_count": null,
      "outputs": []
    },
    {
      "cell_type": "code",
      "source": [
        "# Plot the result\n",
        "plot_histogram(counts)"
      ],
      "metadata": {
        "id": "wMj4PSi-ct2L"
      },
      "execution_count": null,
      "outputs": []
    },
    {
      "cell_type": "markdown",
      "source": [
        "# Expected Outcome\n",
        "\n",
        "If everything works, you'll mostly see either:\n",
        "\n",
        "00: both qubits measured as 0\n",
        "\n",
        "11: both qubits measured as 1\n",
        "\n",
        "This shows entanglement — even though we only touched qubit 0, the outcome of qubit 1 is mysteriously linked!"
      ],
      "metadata": {
        "id": "emcqKow1eT0L"
      }
    },
    {
      "cell_type": "markdown",
      "source": [
        "# Questions:\n",
        "\n",
        "Q1: We only applied gates to the first qubit. Why do you think the second qubit ends up with the same result?\n",
        "Your answer:\n",
        "\n",
        "Q2: If you removed the cx(0, 1) line from the code, what would the histogram look like? What does that tell you?\n",
        "Your answer:\n",
        "\n",
        "Q3: Why do we say that entangled qubits are “linked”? Do they communicate with each other faster than light?\n",
        "Your answer:\n",
        "\n",
        "Q4: Run the circuit again and again (press play multiple times). Do the results change? Why or why not?\n",
        "Your answer:\n",
        "\n",
        "Q5 (Bonus!): Try changing the Hadamard gate to a Pauli-X gate. What happens to the results? Are the qubits still entangled?\n",
        "Your answer:"
      ],
      "metadata": {
        "id": "p3R0AuUGeZ9v"
      }
    },
    {
      "cell_type": "code",
      "source": [
        "######## Optional codes for Q5:"
      ],
      "metadata": {
        "id": "THvEh1kge_g2"
      },
      "execution_count": null,
      "outputs": []
    }
  ]
}