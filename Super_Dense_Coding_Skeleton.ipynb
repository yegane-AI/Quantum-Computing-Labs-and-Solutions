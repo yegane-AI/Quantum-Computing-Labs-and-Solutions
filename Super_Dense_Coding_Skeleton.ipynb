{
  "nbformat": 4,
  "nbformat_minor": 0,
  "metadata": {
    "colab": {
      "provenance": []
    },
    "kernelspec": {
      "name": "python3",
      "display_name": "Python 3"
    },
    "language_info": {
      "name": "python"
    }
  },
  "cells": [
    {
      "cell_type": "markdown",
      "source": [
        "# Super Dense Coding in Qiskit\n",
        "In this lab, you will implement the Super Dense Coding protocol using Qiskit. You'll create an entangled pair of qubits, use it to encode two classical bits of information using only one qubit, and then decode that information on the receiver’s side. This lab will help you understand how quantum entanglement can be used to send more information than classically possible, and give you hands-on experience with quantum gates, measurement, and circuit simulation. By the end, you'll be able to encode and decode different messages and see how this powerful quantum communication technique works in practice."
      ],
      "metadata": {
        "id": "i3pw1iZp6saq"
      }
    },
    {
      "cell_type": "code",
      "source": [
        "# !pip install qiskit\n",
        "# !pip install pylatexenc\n",
        "# !pip install qiskit_aer"
      ],
      "metadata": {
        "id": "br1YtR8k6Fw6"
      },
      "execution_count": null,
      "outputs": []
    },
    {
      "cell_type": "code",
      "execution_count": null,
      "metadata": {
        "id": "9Ami_0T06BgX"
      },
      "outputs": [],
      "source": [
        "# Import necessary libraries\n",
        "from qiskit import QuantumCircuit, transpile\n",
        "from qiskit_aer import AerSimulator\n",
        "from qiskit.visualization import plot_histogram\n",
        "from matplotlib import pyplot as plt\n"
      ]
    },
    {
      "cell_type": "markdown",
      "source": [
        "We need 2 qubits — one for Alice and one for Bob — and 2 classical bits to store the measurement results at the end. These classical bits will help us retrieve the two encoded classical bits."
      ],
      "metadata": {
        "id": "A_h7prla7ETF"
      }
    },
    {
      "cell_type": "code",
      "source": [
        "\n",
        "# Step 1: Create a quantum circuit with 2 qubits and 2 classical bits\n",
        "qc = QuantumCircuit(2, 2)\n"
      ],
      "metadata": {
        "id": "5alaxrpl6KQB"
      },
      "execution_count": null,
      "outputs": []
    },
    {
      "cell_type": "markdown",
      "source": [
        "We prepare a Bell state, which entangles Alice’s and Bob’s qubits.\n",
        "\n",
        "The Hadamard gate creates a superposition on qubit 0.\n",
        "\n",
        "The CNOT gate then spreads that superposition to qubit 1, creating entanglement.\n",
        "This shared state is the quantum resource that makes super dense coding possible.\n",
        "\n"
      ],
      "metadata": {
        "id": "opW-9_5L7F-X"
      }
    },
    {
      "cell_type": "code",
      "source": [
        "\n",
        "# Step 2: Create entanglement (shared Bell state)\n",
        "# Hint: Use Hadamard on qubit 0, then CNOT between qubit 0 and 1\n",
        "# CODE HERE\n",
        "\n"
      ],
      "metadata": {
        "id": "q-0lndD46PYM"
      },
      "execution_count": null,
      "outputs": []
    },
    {
      "cell_type": "markdown",
      "source": [
        "Alice applies gates based on the 2-bit classical message she wants to send.\n",
        "\n",
        "\"00\" → do nothing\n",
        "\n",
        "\"01\" → apply Z\n",
        "\n",
        "\"10\" → apply X\n",
        "\n",
        "\"11\" → apply X then Z\n",
        "\n",
        "This step encodes two classical bits of information into her single qubit, thanks to entanglement."
      ],
      "metadata": {
        "id": "vyVyi4DD7UKk"
      }
    },
    {
      "cell_type": "code",
      "source": [
        "# Step 3: Alice encodes her 2-bit classical message\n",
        "# Try a combination:\n",
        "####### Hints:\n",
        "# 00 -> Do nothing\n",
        "# 01 -> Apply Z\n",
        "# 10 -> Apply X\n",
        "# 11 -> Apply X then Z\n",
        "# Replace this with any one of the above encoding patterns\n",
        "# CODE HERE\n"
      ],
      "metadata": {
        "id": "Am-D9Jpd6RDY"
      },
      "execution_count": null,
      "outputs": []
    },
    {
      "cell_type": "markdown",
      "source": [
        "Now Bob performs operations to decode Alice’s message:\n",
        "\n",
        "First, CNOT disentangles the two qubits.\n",
        "\n",
        "Then, the Hadamard undoes Alice’s original H gate from Step 2.\n",
        "These operations convert the Bell basis (entangled state) back into a standard basis where measurement makes sense."
      ],
      "metadata": {
        "id": "4EdHTBE77aph"
      }
    },
    {
      "cell_type": "code",
      "source": [
        "\n",
        "# Step 4: Bob decodes the message\n",
        "# Apply CNOT and Hadamard to convert Bell basis back to standard basis\n",
        "# CODE HERE\n"
      ],
      "metadata": {
        "id": "h2OQ8TmJ6Sxo"
      },
      "execution_count": null,
      "outputs": []
    },
    {
      "cell_type": "markdown",
      "source": [
        "We measure both qubits and store the result in classical bits. This gives Bob the two classical bits that Alice encoded using only 1 qubit of communication."
      ],
      "metadata": {
        "id": "Fn0gCUjZ7fMh"
      }
    },
    {
      "cell_type": "code",
      "source": [
        "\n",
        "# Step 5: Measure both qubits\n",
        "# CODE HERE\n"
      ],
      "metadata": {
        "id": "x-QyLtsV6UD5"
      },
      "execution_count": null,
      "outputs": []
    },
    {
      "cell_type": "markdown",
      "source": [
        "We use Qiskit’s simulator to run the circuit multiple times (1024 shots) and collect statistics on the outcome.\n",
        "\n",
        "The histogram shows the frequency of each possible result (00, 01, 10, or 11).\n",
        "\n",
        "If everything is correct, you should see one bar with 100% (or close) probability, matching the message Alice encoded."
      ],
      "metadata": {
        "id": "j1psSH5e7hVF"
      }
    },
    {
      "cell_type": "code",
      "source": [
        "\n",
        "# Step 6: Simulate the circuit and plot results\n",
        "simulator = AerSimulator()\n",
        "compiled_circuit = transpile(qc, simulator)\n",
        "result = simulator.run(compiled_circuit, shots=1024).result()\n",
        "counts = result.get_counts()\n",
        "\n"
      ],
      "metadata": {
        "id": "1faOcfbo6Vhh"
      },
      "execution_count": null,
      "outputs": []
    },
    {
      "cell_type": "code",
      "source": [
        "# Visualize the measurement result\n",
        "plot_histogram(counts)\n"
      ],
      "metadata": {
        "id": "_8QfXLOn6XYL"
      },
      "execution_count": null,
      "outputs": []
    },
    {
      "cell_type": "markdown",
      "source": [
        "# Questions:\n",
        "\n",
        "Q1: What classical message did you choose to encode in your implementation? Which quantum gates did you use to represent it? Your Answer here:\n",
        "\n",
        "Q2: Why is entanglement necessary for Super Dense Coding to work? What would happen if Alice and Bob used unentangled qubits? Your Answer here:\n",
        "\n",
        "\n",
        "Q3: Why does Bob need to apply the CNOT and Hadamard gates before measuring? What would happen if he skipped these steps? Your Answer here:\n",
        "\n",
        "\n",
        "Q4: How is Super Dense Coding more efficient than classical communication? What limitations does it still have? Your Answer here:\n",
        "\n"
      ],
      "metadata": {
        "id": "yg7GRvr17k5n"
      }
    },
    {
      "cell_type": "code",
      "source": [
        "#########"
      ],
      "metadata": {
        "id": "93JEn_E98O9-"
      },
      "execution_count": null,
      "outputs": []
    }
  ]
}