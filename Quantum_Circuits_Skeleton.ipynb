{
  "nbformat": 4,
  "nbformat_minor": 0,
  "metadata": {
    "colab": {
      "provenance": []
    },
    "kernelspec": {
      "name": "python3",
      "display_name": "Python 3"
    },
    "language_info": {
      "name": "python"
    }
  },
  "cells": [
    {
      "cell_type": "markdown",
      "source": [
        "# Quantum Superpower Circuit\n",
        "📘 Objective:\n",
        "Build a quantum circuit that encodes a fictional quantum superpower using only the quantum gates you’ve learned so far: Hadamard (H), Pauli-X, Y, Z, and rotation gates Rx, Ry, Rz.\n",
        "\n",
        "You will:\n",
        "\n",
        "Create and visualize your own quantum circuit.\n",
        "\n",
        "Measure and interpret the results.\n",
        "\n",
        "Use qiskit.visualization to plot the circuit and the result histogram.\n",
        "\n",
        "Explore one new Qiskit function by looking it up in the documentation."
      ],
      "metadata": {
        "id": "7ArmlSzBwEvQ"
      }
    },
    {
      "cell_type": "markdown",
      "source": [
        "# 🎯 Assignment Instructions:\n",
        "Imagine you're a quantum superhero, and your qubit gives you a unique power. Your goal is to build a quantum circuit that expresses your power using superposition and entanglement.\n",
        "\n",
        "Initialize a circuit with 2 qubits and 2 classical bits.\n",
        "\n",
        "Use Hadamard and other Pauli/rotation gates to prepare a cool quantum state:\n",
        "\n",
        "Create superposition on one or both qubits.\n",
        "\n",
        "Use CX to create entanglement (look up how to do that in Qiskit Docs).\n",
        "\n",
        "Measure your qubits and store the result in the classical bits.\n",
        "\n",
        "Draw your circuit using circuit.draw().\n",
        "\n",
        "Run your circuit on a simulator and plot the results using a histogram.\n",
        "\n",
        "Choose one new visualization method or function from Qiskit docs (e.g., plot_bloch_vector, plot_state_city, or circuit.decompose()) and try it!\n",
        "\n",
        "Write a 2-3 sentence reflection at the end of your notebook:\n",
        "\n",
        "What gates did you use and why?\n",
        "\n",
        "What did you learn from the visualization or result?"
      ],
      "metadata": {
        "id": "cDR3fONwwSOF"
      }
    },
    {
      "cell_type": "code",
      "source": [
        "# # Uncomment the following lines to install QisKit\n",
        "# !pip install qiskit\n",
        "# !pip install qiskit_aer"
      ],
      "metadata": {
        "id": "FCmaZ3BbvO5l"
      },
      "execution_count": null,
      "outputs": []
    },
    {
      "cell_type": "markdown",
      "source": [
        "# Step 1: Import libraries.\n",
        "All the libraries you might need is here. You are allowed to add other libraries, but not required."
      ],
      "metadata": {
        "id": "KcYl16iox7Ok"
      }
    },
    {
      "cell_type": "code",
      "execution_count": null,
      "metadata": {
        "id": "hoIlYRxovHOn"
      },
      "outputs": [],
      "source": [
        "# Step 1: Import necessary Qiskit modules\n",
        "from qiskit import QuantumCircuit, transpile\n",
        "from qiskit_aer import AerSimulator\n",
        "# from qiskit_aer import Aer\n"
      ]
    },
    {
      "cell_type": "code",
      "source": [
        "# TODO: Create a quantum circuit with 2 qubits and 2 classical bits\n",
        "circuit = QuantumCircuit(______, ______)\n"
      ],
      "metadata": {
        "id": "ECuRSBN0xbUS"
      },
      "execution_count": null,
      "outputs": []
    },
    {
      "cell_type": "markdown",
      "source": [
        "# Step 2: Apply gates to build your quantum superpower\n",
        "Hint: This is where you make your quantum magic! Try using a Hadamard gate for superposition and any Pauli (X, Y, Z) or rotation gate (Rx, Ry, Rz). You can also use cx (CNOT) to create entanglement between the two qubits. Be creative—what combination of gates would show off your “superpower?”"
      ],
      "metadata": {
        "id": "4mdYtfXgx29x"
      }
    },
    {
      "cell_type": "code",
      "source": [
        "# Step 2: Apply gates to build your quantum superpower!\n",
        "# Use H, X, Y, Z, Rx, Ry, or Rz to change your qubit states\n",
        "# Optional: Try making the qubits entangled\n",
        "\n",
        "# TODO: Add quantum gates here\n",
        "# circuit.h(__)\n",
        "# circuit.ry(_________, __)\n",
        "# circuit.cx(__, __)\n",
        "\n"
      ],
      "metadata": {
        "id": "D2MLMXolxto8"
      },
      "execution_count": null,
      "outputs": []
    },
    {
      "cell_type": "markdown",
      "source": [
        "# Step 3: Measure the qubits into classical bits\n",
        "Hint: To read your quantum state, you need to measure your qubits and store the results in the classical bits. Use the .measure() function, specifying which qubits map to which classical bits."
      ],
      "metadata": {
        "id": "v6LseuHTyPlH"
      }
    },
    {
      "cell_type": "code",
      "source": [
        "# Step 3: Measure the qubits into classical bits\n",
        "\n",
        "# TODO: Measure the qubits\n",
        "# circuit.measure([__, __], [__, __])\n"
      ],
      "metadata": {
        "id": "Ai_NsA3pyKA0"
      },
      "execution_count": null,
      "outputs": []
    },
    {
      "cell_type": "markdown",
      "source": [
        "# Step 4: Visualize your circuit\n",
        "Hint: Qiskit can draw your circuit as a diagram to help you see the order and types of gates you’ve added. Use the .draw('mpl') method to see a nice diagram."
      ],
      "metadata": {
        "id": "9ibh9AnozLea"
      }
    },
    {
      "cell_type": "code",
      "source": [
        "# Step 4: Visualize your circuit\n",
        "\n",
        "# TODO: Run the cell\n",
        "# circuit.___('mpl')\n",
        "\n",
        "#if you face errors, after reinstalling the library, restart session and run all which is under Runtime."
      ],
      "metadata": {
        "id": "i7cDv52kzMGs"
      },
      "execution_count": null,
      "outputs": []
    },
    {
      "cell_type": "markdown",
      "source": [
        "# Step 5: Run your circuit on a simulator and show the result\n",
        "Hint: To see what your circuit does, run it on a quantum simulator. First, create an AerSimulator object. Next, use transpile to prepare your circuit, and finally, run it and view the results as a histogram."
      ],
      "metadata": {
        "id": "vx7RZMc70IzX"
      }
    },
    {
      "cell_type": "code",
      "source": [
        "# Step 5: Run your circuit on a simulator and show the result\n",
        "\n",
        "# TODO: Set up simulator and execute\n",
        "# simulator = Aer.get_backend('________________')\n",
        "# job = execute(________, __________, shots=________)\n",
        "# result = job.________()\n",
        "\n",
        "# TODO: Plot histogram\n",
        "# from qiskit.visualization import plot_histogram\n",
        "# plot_histogram(result.______________)\n"
      ],
      "metadata": {
        "id": "2QHXaXnB0GtR"
      },
      "execution_count": null,
      "outputs": []
    },
    {
      "cell_type": "markdown",
      "source": [
        "# Step 6: Explore! Try a new visualization function\n",
        "Hint: Qiskit has many cool ways to visualize states—such as Bloch spheres, state cities, or vectors. Explore the Qiskit visualization docs and try something new. Tip: For some visualizations, you may need to create a statevector from your circuit before measurement. Here you see an example, but you are encouraged to explore more."
      ],
      "metadata": {
        "id": "QOvKrqjC0S1B"
      }
    },
    {
      "cell_type": "code",
      "source": [
        "# # Step 6: Explore! Try a new visualization function\n",
        "# from qiskit.quantum_info import Statevector\n",
        "# from qiskit.visualization import plot_bloch_multivector\n",
        "\n",
        "# # For state visualization, remove measurement gates\n",
        "# circuit_state = QuantumCircuit(2)\n",
        "# circuit_state.h(0)\n",
        "# circuit_state.rx(1.57, 1)\n",
        "# circuit_state.cx(0, 1)\n",
        "# state = Statevector.from_instruction(circuit_state)\n",
        "# plot_bloch_multivector(state)"
      ],
      "metadata": {
        "id": "iNg_XRZI0b_0"
      },
      "execution_count": null,
      "outputs": []
    },
    {
      "cell_type": "markdown",
      "source": [
        "# Step 7: Reflection\n",
        " In a few lines below (as comments), answer these:\n",
        " - What gates did you use and why?\n",
        " - What was interesting about the result?\n",
        " - What new function did you try from Qiskit?"
      ],
      "metadata": {
        "id": "z5neBVSb0hON"
      }
    },
    {
      "cell_type": "markdown",
      "source": [
        "# Double click to write your answer here:\n",
        "Answer:"
      ],
      "metadata": {
        "id": "eSDYoa_j1SwY"
      }
    },
    {
      "cell_type": "markdown",
      "source": [
        "Done with the lab? Awesome!\n",
        "Restart all and run the entire code.\n",
        "Then, with having all the executions visible,\n",
        "export a PDF and upload it on canvas. Make sure all the results are visible in the PDF.\n",
        "\n",
        "https://ucsb.instructure.com/courses/27321/assignments/374912?module_item_id=1774670\n",
        "\n",
        "Best of luck!\n"
      ],
      "metadata": {
        "id": "RWNsQc01ftpg"
      }
    }
  ]
}