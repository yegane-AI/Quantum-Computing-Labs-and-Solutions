{
  "nbformat": 4,
  "nbformat_minor": 0,
  "metadata": {
    "colab": {
      "provenance": []
    },
    "kernelspec": {
      "name": "python3",
      "display_name": "Python 3"
    },
    "language_info": {
      "name": "python"
    }
  },
  "cells": [
    {
      "cell_type": "code",
      "source": [
        "!pip install qiskit\n",
        "!pip install pylatexenc\n",
        "!pip install qiskit_aer"
      ],
      "metadata": {
        "colab": {
          "base_uri": "https://localhost:8080/"
        },
        "id": "zBEk6abcPeXY",
        "outputId": "77aa10d8-6353-42ee-979b-7e2243b7351d"
      },
      "execution_count": null,
      "outputs": [
        {
          "output_type": "stream",
          "name": "stdout",
          "text": [
            "Collecting qiskit\n",
            "  Downloading qiskit-2.1.1-cp39-abi3-manylinux_2_17_x86_64.manylinux2014_x86_64.whl.metadata (12 kB)\n",
            "Collecting rustworkx>=0.15.0 (from qiskit)\n",
            "  Downloading rustworkx-0.16.0-cp39-abi3-manylinux_2_17_x86_64.manylinux2014_x86_64.whl.metadata (10 kB)\n",
            "Requirement already satisfied: numpy<3,>=1.17 in /usr/local/lib/python3.11/dist-packages (from qiskit) (2.0.2)\n",
            "Requirement already satisfied: scipy>=1.5 in /usr/local/lib/python3.11/dist-packages (from qiskit) (1.15.3)\n",
            "Requirement already satisfied: dill>=0.3 in /usr/local/lib/python3.11/dist-packages (from qiskit) (0.3.7)\n",
            "Collecting stevedore>=3.0.0 (from qiskit)\n",
            "  Downloading stevedore-5.4.1-py3-none-any.whl.metadata (2.3 kB)\n",
            "Requirement already satisfied: typing-extensions in /usr/local/lib/python3.11/dist-packages (from qiskit) (4.14.1)\n",
            "Collecting pbr>=2.0.0 (from stevedore>=3.0.0->qiskit)\n",
            "  Downloading pbr-6.1.1-py2.py3-none-any.whl.metadata (3.4 kB)\n",
            "Requirement already satisfied: setuptools in /usr/local/lib/python3.11/dist-packages (from pbr>=2.0.0->stevedore>=3.0.0->qiskit) (75.2.0)\n",
            "Downloading qiskit-2.1.1-cp39-abi3-manylinux_2_17_x86_64.manylinux2014_x86_64.whl (7.5 MB)\n",
            "\u001b[2K   \u001b[90m━━━━━━━━━━━━━━━━━━━━━━━━━━━━━━━━━━━━━━━━\u001b[0m \u001b[32m7.5/7.5 MB\u001b[0m \u001b[31m15.7 MB/s\u001b[0m eta \u001b[36m0:00:00\u001b[0m\n",
            "\u001b[?25hDownloading rustworkx-0.16.0-cp39-abi3-manylinux_2_17_x86_64.manylinux2014_x86_64.whl (2.1 MB)\n",
            "\u001b[2K   \u001b[90m━━━━━━━━━━━━━━━━━━━━━━━━━━━━━━━━━━━━━━━━\u001b[0m \u001b[32m2.1/2.1 MB\u001b[0m \u001b[31m54.2 MB/s\u001b[0m eta \u001b[36m0:00:00\u001b[0m\n",
            "\u001b[?25hDownloading stevedore-5.4.1-py3-none-any.whl (49 kB)\n",
            "\u001b[2K   \u001b[90m━━━━━━━━━━━━━━━━━━━━━━━━━━━━━━━━━━━━━━━━\u001b[0m \u001b[32m49.5/49.5 kB\u001b[0m \u001b[31m2.4 MB/s\u001b[0m eta \u001b[36m0:00:00\u001b[0m\n",
            "\u001b[?25hDownloading pbr-6.1.1-py2.py3-none-any.whl (108 kB)\n",
            "\u001b[2K   \u001b[90m━━━━━━━━━━━━━━━━━━━━━━━━━━━━━━━━━━━━━━━━\u001b[0m \u001b[32m109.0/109.0 kB\u001b[0m \u001b[31m8.4 MB/s\u001b[0m eta \u001b[36m0:00:00\u001b[0m\n",
            "\u001b[?25hInstalling collected packages: rustworkx, pbr, stevedore, qiskit\n",
            "Successfully installed pbr-6.1.1 qiskit-2.1.1 rustworkx-0.16.0 stevedore-5.4.1\n",
            "Collecting pylatexenc\n",
            "  Downloading pylatexenc-2.10.tar.gz (162 kB)\n",
            "\u001b[2K     \u001b[90m━━━━━━━━━━━━━━━━━━━━━━━━━━━━━━━━━━━━━\u001b[0m \u001b[32m162.6/162.6 kB\u001b[0m \u001b[31m602.9 kB/s\u001b[0m eta \u001b[36m0:00:00\u001b[0m\n",
            "\u001b[?25h  Preparing metadata (setup.py) ... \u001b[?25l\u001b[?25hdone\n",
            "Building wheels for collected packages: pylatexenc\n",
            "  Building wheel for pylatexenc (setup.py) ... \u001b[?25l\u001b[?25hdone\n",
            "  Created wheel for pylatexenc: filename=pylatexenc-2.10-py3-none-any.whl size=136817 sha256=c5b5bd434845a3b41cf68e35e4e872db60007155091e181f8bbc805a7c3bc553\n",
            "  Stored in directory: /root/.cache/pip/wheels/b1/7a/33/9fdd892f784ed4afda62b685ae3703adf4c91aa0f524c28f03\n",
            "Successfully built pylatexenc\n",
            "Installing collected packages: pylatexenc\n",
            "Successfully installed pylatexenc-2.10\n",
            "Collecting qiskit_aer\n",
            "  Downloading qiskit_aer-0.17.1-cp311-cp311-manylinux_2_17_x86_64.manylinux2014_x86_64.whl.metadata (8.3 kB)\n",
            "Requirement already satisfied: qiskit>=1.1.0 in /usr/local/lib/python3.11/dist-packages (from qiskit_aer) (2.1.1)\n",
            "Requirement already satisfied: numpy>=1.16.3 in /usr/local/lib/python3.11/dist-packages (from qiskit_aer) (2.0.2)\n",
            "Requirement already satisfied: scipy>=1.0 in /usr/local/lib/python3.11/dist-packages (from qiskit_aer) (1.15.3)\n",
            "Requirement already satisfied: psutil>=5 in /usr/local/lib/python3.11/dist-packages (from qiskit_aer) (5.9.5)\n",
            "Requirement already satisfied: python-dateutil>=2.8.0 in /usr/local/lib/python3.11/dist-packages (from qiskit_aer) (2.9.0.post0)\n",
            "Requirement already satisfied: six>=1.5 in /usr/local/lib/python3.11/dist-packages (from python-dateutil>=2.8.0->qiskit_aer) (1.17.0)\n",
            "Requirement already satisfied: rustworkx>=0.15.0 in /usr/local/lib/python3.11/dist-packages (from qiskit>=1.1.0->qiskit_aer) (0.16.0)\n",
            "Requirement already satisfied: dill>=0.3 in /usr/local/lib/python3.11/dist-packages (from qiskit>=1.1.0->qiskit_aer) (0.3.7)\n",
            "Requirement already satisfied: stevedore>=3.0.0 in /usr/local/lib/python3.11/dist-packages (from qiskit>=1.1.0->qiskit_aer) (5.4.1)\n",
            "Requirement already satisfied: typing-extensions in /usr/local/lib/python3.11/dist-packages (from qiskit>=1.1.0->qiskit_aer) (4.14.1)\n",
            "Requirement already satisfied: pbr>=2.0.0 in /usr/local/lib/python3.11/dist-packages (from stevedore>=3.0.0->qiskit>=1.1.0->qiskit_aer) (6.1.1)\n",
            "Requirement already satisfied: setuptools in /usr/local/lib/python3.11/dist-packages (from pbr>=2.0.0->stevedore>=3.0.0->qiskit>=1.1.0->qiskit_aer) (75.2.0)\n",
            "Downloading qiskit_aer-0.17.1-cp311-cp311-manylinux_2_17_x86_64.manylinux2014_x86_64.whl (12.4 MB)\n",
            "\u001b[2K   \u001b[90m━━━━━━━━━━━━━━━━━━━━━━━━━━━━━━━━━━━━━━━━\u001b[0m \u001b[32m12.4/12.4 MB\u001b[0m \u001b[31m35.3 MB/s\u001b[0m eta \u001b[36m0:00:00\u001b[0m\n",
            "\u001b[?25hInstalling collected packages: qiskit_aer\n",
            "Successfully installed qiskit_aer-0.17.1\n"
          ]
        }
      ]
    },
    {
      "cell_type": "markdown",
      "source": [
        "# Step-by-Step Instruction for BB84 QKD Lab"
      ],
      "metadata": {
        "id": "BLM8R31PWZJr"
      }
    },
    {
      "cell_type": "markdown",
      "source": [
        "# Step 1: Imports\n"
      ],
      "metadata": {
        "id": "pNOasw5OWku0"
      }
    },
    {
      "cell_type": "code",
      "source": [
        "from qiskit import QuantumCircuit, transpile\n",
        "from qiskit_aer import AerSimulator\n",
        "import numpy as np\n",
        "\n",
        "simulator = AerSimulator()\n"
      ],
      "metadata": {
        "id": "3CfvJDR3WVNH"
      },
      "execution_count": null,
      "outputs": []
    },
    {
      "cell_type": "markdown",
      "source": [
        "# Step 2: Generate Random Bits and Bases\n",
        "Alice and Bob must independently generate two random sequences:\n",
        "\n",
        "**Bits (0 or 1)** – the values Alice wants to transmit.\n",
        "\n",
        "**Bases (Z-basis or X-basis)** – how they encode or measure qubits.\n",
        "\n",
        "Alice’s bases define how she prepares each qubit; Bob’s bases define how he measures them."
      ],
      "metadata": {
        "id": "-ao0gqviWuj-"
      }
    },
    {
      "cell_type": "code",
      "source": [
        "def generate_bits_and_bases(n):\n",
        "    bits = np.___\n",
        "    bases = np.___\n",
        "    return bits, bases\n"
      ],
      "metadata": {
        "id": "lSrZzP-oW94L"
      },
      "execution_count": null,
      "outputs": []
    },
    {
      "cell_type": "markdown",
      "source": [
        "# Step 3: Encode Alice’s Qubits\n",
        "\n",
        "Purpose:\n",
        "Alice prepares a qubit for each bit using:\n",
        "\n",
        "**Z-basis (basis = 0)**: |0⟩ for bit 0, |1⟩ for bit 1\n",
        "\n",
        "**X-basis (basis = 1)**: |+⟩ for bit 0, |–⟩ for bit 1 (by applying Hadamard)\n",
        "\n",
        "Each qubit becomes a single-qubit circuit.\n",
        "\n"
      ],
      "metadata": {
        "id": "ucAj-iw9W82T"
      }
    },
    {
      "cell_type": "code",
      "source": [
        "def encode_qubits(bits, bases):\n",
        "    circuits = []\n",
        "    for bit, basis in zip(_, _):\n",
        "        qc = QuantumCircuit(_, _)\n",
        "        if _ == _:\n",
        "            qc.x(_)\n",
        "        if _ == _:\n",
        "            qc.h(_)\n",
        "        circuits.append(_)\n",
        "    return circuits\n"
      ],
      "metadata": {
        "id": "F5ymkdOiXLKr"
      },
      "execution_count": null,
      "outputs": []
    },
    {
      "cell_type": "markdown",
      "source": [
        "# Step 4: Simulate Eavesdropping by Eve\n",
        "\n",
        "We simulate an attacker, Eve, who:\n",
        "\n",
        "1. Intercepts Alice’s qubit.\n",
        "\n",
        "2. Measures it in a randomly chosen basis.\n",
        "\n",
        "3. Re-prepares the qubit based on her measurement result.\n",
        "\n",
        "4. Sends the re-encoded qubit to Bob.\n",
        "\n",
        "If Eve picks the wrong basis, she introduces errors—this is the core of QKD security."
      ],
      "metadata": {
        "id": "RT3qgBUXXRS3"
      }
    },
    {
      "cell_type": "code",
      "source": [
        "def eavesdrop(circuits, eaves_bases):\n",
        "    new_circuits = []\n",
        "    for qc, basis in zip(_, _):\n",
        "        temp_qc = qc.copy()\n",
        "        if basis == _:\n",
        "            _.h(_)\n",
        "        _.measure(_, _)\n",
        "\n",
        "        tqc = transpile(_, simulator)\n",
        "        result = simulator.run(tqc, shots=1, memory=True).result()\n",
        "        measurement = result.get_memory()[0]\n",
        "\n",
        "        resend = QuantumCircuit(_, _)\n",
        "        if int(measurement) == _:\n",
        "            _.x(_)\n",
        "        if basis == _:\n",
        "            _.h(_)\n",
        "        new_circuits.append(_)\n",
        "    return new_circuits\n"
      ],
      "metadata": {
        "id": "sk2oBjbSXOrK"
      },
      "execution_count": null,
      "outputs": []
    },
    {
      "cell_type": "markdown",
      "source": [
        "# Step 5: Bob Measures the Qubits\n",
        "\n",
        "Bob applies a Hadamard if his basis is X, then measures the qubit in the Z-basis.\n",
        "\n",
        "This simulates Bob’s choice of measurement basis. His result will match Alice's bit only if their bases agree.\n",
        "\n"
      ],
      "metadata": {
        "id": "GFtN6GmhXwVi"
      }
    },
    {
      "cell_type": "code",
      "source": [
        "def measure_qubits(circuits, bob_bases):\n",
        "    results = []\n",
        "    for qc, basis in zip(_, _):\n",
        "        temp_qc = qc.copy()\n",
        "        if basis == _:\n",
        "            #### Your Code here (temp_qc and hadamard)\n",
        "\n",
        "        _.measure(_, _)\n",
        "        tqc = transpile(temp_qc, simulator)\n",
        "        result = simulator.run(_, shots=1, memory=True).result()\n",
        "        results.append(int(result.get_memory()[0]))\n",
        "    return results\n"
      ],
      "metadata": {
        "id": "TADAjTnFXw1k"
      },
      "execution_count": null,
      "outputs": []
    },
    {
      "cell_type": "markdown",
      "source": [
        "# Step 6: Key Sifting (Basis Reconciliation)\n",
        "\n",
        "Once Alice and Bob reveal their bases publicly, they discard all bits where their bases don’t match.\n",
        "\n",
        "This step:\n",
        "\n",
        "* Keeps only measurements where they both used the same basis.\n",
        "\n",
        "* Produces a sifted key from Alice and Bob.\n",
        "\n",
        "The sifted keys are not guaranteed to match—if Eve was eavesdropping, some bits will differ."
      ],
      "metadata": {
        "id": "0ecG4MeKX67Y"
      }
    },
    {
      "cell_type": "code",
      "source": [
        "def sift_key(alice_bases, bob_bases, alice_bits, bob_results):\n",
        "    sifted_alice = []\n",
        "    sifted_bob = []\n",
        "    for ab, bb, ab_bit, br in zip(_, _, _, _):\n",
        "        if _ == _:\n",
        "            sifted_alice.append(_)\n",
        "            sifted_bob.append(_)\n",
        "    return sifted_alice, sifted_bob\n"
      ],
      "metadata": {
        "id": "2Spw5bppX7U7"
      },
      "execution_count": null,
      "outputs": []
    },
    {
      "cell_type": "markdown",
      "source": [
        "# Step 7: Estimate the Quantum Bit Error Rate (QBER)\n",
        "\n",
        "To evaluate the security of the key:\n",
        "\n",
        "* We compare Alice and Bob’s sifted keys.\n",
        "\n",
        "* The QBER is the fraction of mismatched bits.\n",
        "\n",
        "* A high QBER suggests interference (e.g., Eve is present).\n",
        "\n",
        "In a secure transmission without noise or Eve, the error rate should be close to 0."
      ],
      "metadata": {
        "id": "3J_p4cyKYNef"
      }
    },
    {
      "cell_type": "code",
      "source": [
        "def estimate_error_rate(sifted_alice, sifted_bob):\n",
        "    if not _:\n",
        "        return 0\n",
        "    errors = sum(a != b for a, b in zip(_, _))\n",
        "    return errors / len(_)\n"
      ],
      "metadata": {
        "id": "NY2jXBmIYcCK"
      },
      "execution_count": null,
      "outputs": []
    },
    {
      "cell_type": "markdown",
      "source": [
        "# Step 8: Plotting the QBER\n"
      ],
      "metadata": {
        "id": "kz6KB0BQZDgX"
      }
    },
    {
      "cell_type": "code",
      "execution_count": null,
      "metadata": {
        "id": "k2oIEEh2PPZ-"
      },
      "outputs": [],
      "source": [
        "import matplotlib.pyplot as plt\n",
        "\n",
        "def plot_qber_vs_eavesdropping():\n",
        "    trials = 10\n",
        "    n = 100\n",
        "    qber_no_eve = []\n",
        "    qber_with_eve = []\n",
        "\n",
        "    for _ in range(trials):\n",
        "        # No Eve\n",
        "        alice_bits, alice_bases = generate_bits_and_bases(n)\n",
        "        bob_bases = generate_bits_and_bases(n)[1]\n",
        "        circuits = encode_qubits(alice_bits, alice_bases)\n",
        "        bob_results = measure_qubits(circuits, bob_bases)\n",
        "        sifted_alice, sifted_bob = sift_key(alice_bases, bob_bases, alice_bits, bob_results)\n",
        "        qber_no_eve.append(estimate_error_rate(sifted_alice, sifted_bob))\n",
        "\n",
        "        # With Eve\n",
        "        alice_bits, alice_bases = generate_bits_and_bases(n)\n",
        "        bob_bases = generate_bits_and_bases(n)[1]\n",
        "        eaves_bases = generate_bits_and_bases(n)[1]\n",
        "        circuits = encode_qubits(alice_bits, alice_bases)\n",
        "        circuits = eavesdrop(circuits, eaves_bases)\n",
        "        bob_results = measure_qubits(circuits, bob_bases)\n",
        "        sifted_alice, sifted_bob = sift_key(alice_bases, bob_bases, alice_bits, bob_results)\n",
        "        qber_with_eve.append(estimate_error_rate(sifted_alice, sifted_bob))\n",
        "\n",
        "    # Plotting\n",
        "    plt.figure(figsize=(10, 5))\n",
        "    plt.plot(qber_no_eve, label='No Eve (Secure Channel)', marker='o')\n",
        "    plt.plot(qber_with_eve, label='With Eve (Intercepted)', marker='x')\n",
        "    plt.axhline(y=0.25, color='gray', linestyle='--', label='Random Guessing Error (25%)')\n",
        "    plt.xlabel('Trial')\n",
        "    plt.ylabel('Quantum Bit Error Rate (QBER)')\n",
        "    plt.title('QBER With vs. Without Eavesdropping in BB84')\n",
        "    plt.legend()\n",
        "    plt.grid(True)\n",
        "    plt.tight_layout()\n",
        "    plt.show()\n"
      ]
    },
    {
      "cell_type": "markdown",
      "source": [
        "The following block ties all the steps together:\n",
        "\n",
        "1. Alice generates bits + bases.\n",
        "\n",
        "2. Bob and Eve (optional) generate their bases.\n",
        "\n",
        "3. Alice encodes qubits.\n",
        "\n",
        "4. Eve intercepts.\n",
        "\n",
        "5. Bob measures.\n",
        "\n",
        "6. Alice and Bob compare bases and compute their sifted key.\n",
        "\n",
        "7. They estimate how many bits differ to check for eavesdropping.\n"
      ],
      "metadata": {
        "id": "8SdkPZLWYuDf"
      }
    },
    {
      "cell_type": "code",
      "source": [
        "if __name__ == \"__main__\":\n",
        "    n = 100\n",
        "    alice_bits, alice_bases = generate_bits_and_bases(n)\n",
        "    bob_bases = generate_bits_and_bases(n)[1]\n",
        "    eaves_bases = generate_bits_and_bases(n)[1]\n",
        "\n",
        "    circuits = encode_qubits(alice_bits, alice_bases)\n",
        "\n",
        "    # Uncomment this line to simulate eavesdropping\n",
        "    circuits = eavesdrop(circuits, eaves_bases)\n",
        "\n",
        "    bob_results = measure_qubits(circuits, bob_bases)\n",
        "\n",
        "    sifted_alice, sifted_bob = sift_key(alice_bases, bob_bases, alice_bits, bob_results)\n",
        "    error = estimate_error_rate(sifted_alice, sifted_bob)\n",
        "\n",
        "    print(\"Sifted key length:\", len(sifted_alice))\n",
        "    print(\"Estimated error rate:\", error)\n",
        "    print(\"Sifted Alice Key:\", sifted_alice)\n",
        "    print(\"Sifted Bob Key:  \", sifted_bob)\n",
        "    plot_qber_vs_eavesdropping() ### This line could take a while!\n",
        "\n"
      ],
      "metadata": {
        "colab": {
          "base_uri": "https://localhost:8080/",
          "height": 598
        },
        "id": "PcxRouRxSFzI",
        "outputId": "0bc39d03-b742-4428-ba74-cb7ab6e985ff"
      },
      "execution_count": null,
      "outputs": [
        {
          "output_type": "stream",
          "name": "stdout",
          "text": [
            "Sifted key length: 50\n",
            "Estimated error rate: 0.32\n",
            "Sifted Alice Key: [np.int64(1), np.int64(1), np.int64(1), np.int64(1), np.int64(0), np.int64(1), np.int64(1), np.int64(1), np.int64(0), np.int64(1), np.int64(0), np.int64(1), np.int64(0), np.int64(1), np.int64(1), np.int64(0), np.int64(1), np.int64(1), np.int64(1), np.int64(0), np.int64(1), np.int64(0), np.int64(0), np.int64(1), np.int64(1), np.int64(1), np.int64(1), np.int64(0), np.int64(0), np.int64(0), np.int64(1), np.int64(0), np.int64(0), np.int64(1), np.int64(1), np.int64(1), np.int64(1), np.int64(1), np.int64(0), np.int64(1), np.int64(0), np.int64(1), np.int64(1), np.int64(0), np.int64(0), np.int64(1), np.int64(1), np.int64(1), np.int64(1), np.int64(1)]\n",
            "Sifted Bob Key:   [1, 0, 0, 0, 0, 1, 1, 1, 1, 1, 0, 1, 1, 1, 1, 0, 1, 1, 1, 0, 1, 1, 0, 1, 1, 1, 1, 0, 1, 0, 1, 1, 0, 1, 1, 1, 0, 0, 0, 0, 0, 1, 0, 0, 1, 0, 1, 1, 0, 0]\n"
          ]
        },
        {
          "output_type": "display_data",
          "data": {
            "text/plain": [
              "<Figure size 1000x500 with 1 Axes>"
            ],
            "image/png": "[encoded data removed]"
          },
          "metadata": {}
        }
      ]
    },
    {
      "cell_type": "markdown",
      "source": [
        "# Question:\n",
        "Which part of the diagram is weird to you? (or not!)"
      ],
      "metadata": {
        "id": "ICQf3V8eolC0"
      }
    }
  ]
}